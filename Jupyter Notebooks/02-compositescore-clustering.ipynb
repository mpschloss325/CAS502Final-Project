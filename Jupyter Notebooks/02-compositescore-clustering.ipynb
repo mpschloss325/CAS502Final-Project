{
 "cells": [
  {
   "cell_type": "markdown",
   "id": "153f18ed",
   "metadata": {},
   "source": [
    "# **🔍 Finding Similar Respondents & Clustering Survey Data**\n",
    "### **Understanding Similarity Between Respondents**\n",
    "This notebook follows a simplified approach to **analyzing survey respondents** based on their **composite scores**. Instead of visualizing a large and complex network, which was the original idea, this focuses on **two streamlined tools**:\n",
    "\n",
    "### **1️⃣ Explore Similar & Different Respondents**\n",
    "- Enter a **Respondent ID** to compare an individual against others.\n",
    "- The system returns **Top 10 Most Similar** and **Top 10 Most Different** respondents.\n",
    "- This allows for **focused analysis** on who shares similar or different characteristics.\n",
    "\n",
    "### **2️⃣ Use K-Means Clustering to Identify and Explore Clusters in Respondents**\n",
    "- Using **machine learning clustering**, respondents are **grouped based on their composite scores**.\n",
    "- The result is an **interactive visualization** of respondent clusters.\n",
    "- This approach reveals **patterns in the data** without requiring a massive network.\n",
    "\n",
    "---\n",
    "### **📂 Data Used**\n",
    "- **CSV2.csv** → The cleaned, re-scaled dataset with normalized composite scores.\n",
    "- The dataset includes **demographics, election choices, crisis impact scores, and personality measures**.\n"
   ]
  },
  {
   "cell_type": "code",
   "execution_count": 50,
   "id": "80870dd7",
   "metadata": {},
   "outputs": [
    {
     "name": "stdout",
     "output_type": "stream",
     "text": [
      "✅ Data Loaded & Similarity Computed!\n"
     ]
    }
   ],
   "source": [
    "import pandas as pd\n",
    "import numpy as np\n",
    "import ipywidgets as widgets\n",
    "from IPython.display import display, clear_output\n",
    "from sklearn.metrics.pairwise import cosine_similarity\n",
    "import matplotlib.pyplot as plt\n",
    "import seaborn as sns\n",
    "\n",
    "# 📂 Load dataset\n",
    "file_path = \"CSV2.csv\"\n",
    "df = pd.read_csv(file_path, index_col=\"Respondent ID\")\n",
    "\n",
    "# 🔢 Select the relevant composite scores for comparison\n",
    "composite_scores = [\n",
    "    \"Systems Thinking Score 0-1\", \"Trust Score 0-1\", \"Conspiracy 0-1\", \"Complexity 0-1\",\n",
    "    \"Openness 0-1\", \"Conscientiousness 0-1\", \"Extraversion 0-1\", \"Agreeableness 0-1\", \"Neuroticism 0-1\",\n",
    "    \"Composite Crisis Score (Sum of all Crisis Scores)\"\n",
    "]\n",
    "\n",
    "# ✅ Compute similarity matrix once for all respondents\n",
    "similarity_matrix = pd.DataFrame(\n",
    "    cosine_similarity(df[composite_scores]),\n",
    "    index=df.index,\n",
    "    columns=df.index\n",
    ")\n",
    "\n",
    "print(\"✅ Data Loaded & Similarity Computed!\")\n"
   ]
  },
  {
   "cell_type": "code",
   "execution_count": 51,
   "id": "2d3a8140",
   "metadata": {},
   "outputs": [
    {
     "name": "stdout",
     "output_type": "stream",
     "text": [
      "✅ Data Loaded! Select a respondent and scores to compare.\n"
     ]
    },
    {
     "data": {
      "application/vnd.jupyter.widget-view+json": {
       "model_id": "1d8e57c770f04e65b30e52eef48e67f5",
       "version_major": 2,
       "version_minor": 0
      },
      "text/plain": [
       "IntText(value=2590, description='Respondent ID:')"
      ]
     },
     "metadata": {},
     "output_type": "display_data"
    },
    {
     "data": {
      "application/vnd.jupyter.widget-view+json": {
       "model_id": "fb044dd9c0fc423993ad921a4c6d5f8a",
       "version_major": 2,
       "version_minor": 0
      },
      "text/plain": [
       "Button(button_style='info', description='Choose for Me', icon='shuffle', style=ButtonStyle())"
      ]
     },
     "metadata": {},
     "output_type": "display_data"
    },
    {
     "data": {
      "application/vnd.jupyter.widget-view+json": {
       "model_id": "2ed6131f94ce4d27b261d623713ac702",
       "version_major": 2,
       "version_minor": 0
      },
      "text/plain": [
       "VBox(children=(Checkbox(value=False, description='Systems Thinking Score 0-1'), Checkbox(value=False, descript…"
      ]
     },
     "metadata": {},
     "output_type": "display_data"
    },
    {
     "data": {
      "application/vnd.jupyter.widget-view+json": {
       "model_id": "fa93f08323d44aef9f94cafb68c33d8a",
       "version_major": 2,
       "version_minor": 0
      },
      "text/plain": [
       "Button(button_style='primary', description='Find Matches', icon='search', style=ButtonStyle())"
      ]
     },
     "metadata": {},
     "output_type": "display_data"
    }
   ],
   "source": [
    "from IPython.display import display, clear_output\n",
    "from sklearn.metrics.pairwise import cosine_similarity\n",
    "\n",
    "# 📂 Load dataset\n",
    "file_path = \"CSV2.csv\"\n",
    "df = pd.read_csv(file_path, index_col=\"Respondent ID\")\n",
    "\n",
    "# 🔢 Define all available composite scores\n",
    "composite_scores = [\n",
    "    \"Systems Thinking Score 0-1\", \"Trust Score 0-1\", \"Conspiracy 0-1\", \"Complexity 0-1\",\n",
    "    \"Openness 0-1\", \"Conscientiousness 0-1\", \"Extraversion 0-1\", \"Agreeableness 0-1\", \"Neuroticism 0-1\",\n",
    "    \"Composite Crisis Score (Sum of all Crisis Scores)\"\n",
    "]\n",
    "\n",
    "# Additional Demographic Columns\n",
    "demographics = [\"Age\", \"Gender\", \"Last Election: Didn't Vote 0, Democrat 1, Republican 2\"]\n",
    "\n",
    "print(\"✅ Data Loaded! Select a respondent and scores to compare.\")\n",
    "\n",
    "# 🎛 Input for respondent ID\n",
    "respondent_id_input = widgets.IntText(\n",
    "    value=df.index[0],  # Default to first respondent\n",
    "    description=\"Respondent ID:\"\n",
    ")\n",
    "\n",
    "# 🎲 Button to randomly choose a respondent\n",
    "random_button = widgets.Button(\n",
    "    description=\"Choose for Me\",\n",
    "    button_style=\"info\",\n",
    "    icon=\"shuffle\"\n",
    ")\n",
    "\n",
    "# 🎛 Checkboxes for selecting composite scores\n",
    "score_checkboxes = {score: widgets.Checkbox(value=False, description=score) for score in composite_scores}\n",
    "\n",
    "# ▶️ Button to find similar respondents\n",
    "find_button = widgets.Button(\n",
    "    description=\"Find Matches\",\n",
    "    button_style=\"primary\",\n",
    "    icon=\"search\"\n",
    ")\n",
    "\n",
    "# 📌 Function to get selected composite scores\n",
    "def get_selected_scores():\n",
    "    return [key for key, checkbox in score_checkboxes.items() if checkbox.value]\n",
    "\n",
    "# 🎲 Function to randomly select a respondent ID\n",
    "def choose_random_id(change=None):\n",
    "    random_id = np.random.choice(df.index)\n",
    "    respondent_id_input.value = random_id  # Set it in the input box\n",
    "\n",
    "# 📌 Function to compute similarity based on selected features\n",
    "def find_similar_different(change=None):\n",
    "    clear_output(wait=True)\n",
    "    display(respondent_id_input, random_button, widgets.VBox(list(score_checkboxes.values())), find_button)\n",
    "\n",
    "    respondent_id = respondent_id_input.value\n",
    "    selected_scores = get_selected_scores()\n",
    "\n",
    "    if respondent_id not in df.index:\n",
    "        print(\"❌ Respondent ID not found. Please enter a valid ID.\")\n",
    "        return\n",
    "\n",
    "    if not selected_scores:\n",
    "        print(\"⚠️ Please select at least one composite score.\")\n",
    "        return\n",
    "\n",
    "    # Compute similarity dynamically based on selected scores\n",
    "    similarity_matrix = pd.DataFrame(\n",
    "        cosine_similarity(df[selected_scores]),\n",
    "        index=df.index,\n",
    "        columns=df.index\n",
    "    )\n",
    "\n",
    "    # Retrieve similarity values\n",
    "    similarities = similarity_matrix.loc[respondent_id].drop(respondent_id)  # Remove self\n",
    "    most_similar = similarities.nlargest(10)\n",
    "    most_different = similarities.nsmallest(10)\n",
    "\n",
    "    print(f\"🔍 **Most Similar Respondents to {respondent_id} (Based on {len(selected_scores)} selected scores):**\")\n",
    "    display(format_comparison_table(respondent_id, most_similar.index, similarities, selected_scores))\n",
    "\n",
    "    print(f\"\\n🔍 **Most Different Respondents from {respondent_id} (Based on {len(selected_scores)} selected scores):**\")\n",
    "    display(format_comparison_table(respondent_id, most_different.index, similarities, selected_scores))\n",
    "\n",
    "# 📊 Function to format side-by-side comparison table with demographics\n",
    "def format_comparison_table(target_id, comparison_ids, similarities, selected_scores):\n",
    "    comparison_df = df.loc[comparison_ids, demographics + selected_scores].copy()\n",
    "    comparison_df.insert(0, \"Similarity Score\", similarities.loc[comparison_ids])  # Add similarity column\n",
    "    target_scores = df.loc[target_id, demographics + selected_scores].to_frame().T  # Get target respondent's scores\n",
    "\n",
    "    # Add respondent labels\n",
    "    target_scores.insert(0, \"Similarity Score\", \"TARGET RESPONDENT\")\n",
    "    comparison_df.insert(0, \"Respondent ID\", comparison_df.index)\n",
    "    target_scores.insert(0, \"Respondent ID\", target_id)\n",
    "\n",
    "    return pd.concat([target_scores, comparison_df])  # Merge target and similar respondents\n",
    "\n",
    "# Attach functions to buttons\n",
    "find_button.on_click(find_similar_different)\n",
    "random_button.on_click(choose_random_id)\n",
    "\n",
    "# Display UI\n",
    "display(respondent_id_input, random_button, widgets.VBox(list(score_checkboxes.values())), find_button)\n"
   ]
  },
  {
   "cell_type": "markdown",
   "id": "2a26ced9",
   "metadata": {},
   "source": [
    "## Part 2: Cluster Analysis\n",
    "The final part of this notebook is aimed at identifying clusters across the data, specifically in the composite scores.\n",
    "We conduct a K-Means clustering analysism which "
   ]
  },
  {
   "cell_type": "code",
   "execution_count": 52,
   "id": "cfa12fe6",
   "metadata": {
    "scrolled": true
   },
   "outputs": [
    {
     "name": "stderr",
     "output_type": "stream",
     "text": [
      "C:\\Users\\12012\\anaconda3\\Lib\\site-packages\\sklearn\\cluster\\_kmeans.py:1436: UserWarning:\n",
      "\n",
      "KMeans is known to have a memory leak on Windows with MKL, when there are less chunks than available threads. You can avoid it by setting the environment variable OMP_NUM_THREADS=5.\n",
      "\n"
     ]
    },
    {
     "name": "stdout",
     "output_type": "stream",
     "text": [
      "✅ K-Means Clustering Complete! Respondents assigned to 5 clusters.\n"
     ]
    },
    {
     "data": {
      "text/html": [
       "<div>\n",
       "<style scoped>\n",
       "    .dataframe tbody tr th:only-of-type {\n",
       "        vertical-align: middle;\n",
       "    }\n",
       "\n",
       "    .dataframe tbody tr th {\n",
       "        vertical-align: top;\n",
       "    }\n",
       "\n",
       "    .dataframe thead th {\n",
       "        text-align: right;\n",
       "    }\n",
       "</style>\n",
       "<table border=\"1\" class=\"dataframe\">\n",
       "  <thead>\n",
       "    <tr style=\"text-align: right;\">\n",
       "      <th></th>\n",
       "      <th>Cluster</th>\n",
       "      <th>Number of Respondents</th>\n",
       "    </tr>\n",
       "  </thead>\n",
       "  <tbody>\n",
       "    <tr>\n",
       "      <th>0</th>\n",
       "      <td>0</td>\n",
       "      <td>151</td>\n",
       "    </tr>\n",
       "    <tr>\n",
       "      <th>1</th>\n",
       "      <td>1</td>\n",
       "      <td>285</td>\n",
       "    </tr>\n",
       "    <tr>\n",
       "      <th>2</th>\n",
       "      <td>2</td>\n",
       "      <td>108</td>\n",
       "    </tr>\n",
       "    <tr>\n",
       "      <th>3</th>\n",
       "      <td>3</td>\n",
       "      <td>275</td>\n",
       "    </tr>\n",
       "    <tr>\n",
       "      <th>4</th>\n",
       "      <td>4</td>\n",
       "      <td>223</td>\n",
       "    </tr>\n",
       "  </tbody>\n",
       "</table>\n",
       "</div>"
      ],
      "text/plain": [
       "   Cluster  Number of Respondents\n",
       "0        0                    151\n",
       "1        1                    285\n",
       "2        2                    108\n",
       "3        3                    275\n",
       "4        4                    223"
      ]
     },
     "metadata": {},
     "output_type": "display_data"
    }
   ],
   "source": [
    "from sklearn.cluster import KMeans\n",
    "import pandas as pd\n",
    "\n",
    "# Set number of clusters\n",
    "num_clusters = 5  # Can be adjusted as needed\n",
    "\n",
    "# Run K-Means clustering\n",
    "kmeans = KMeans(n_clusters=num_clusters, random_state=42, n_init=10)\n",
    "df[\"Cluster\"] = kmeans.fit_predict(df[composite_scores])\n",
    "\n",
    "# Count respondents in each cluster\n",
    "cluster_sizes = df[\"Cluster\"].value_counts().sort_index()\n",
    "\n",
    "# Create a summary table\n",
    "summary_table = pd.DataFrame({\"Cluster\": cluster_sizes.index, \"Number of Respondents\": cluster_sizes.values})\n",
    "\n",
    "# Display results\n",
    "print(f\"✅ K-Means Clustering Complete! Respondents assigned to {num_clusters} clusters.\")\n",
    "display(summary_table)  # This will show the table directly\n"
   ]
  },
  {
   "cell_type": "markdown",
   "id": "9bd46920",
   "metadata": {},
   "source": [
    "## Interactive Component: Explore a Specific Cluster in More Depth"
   ]
  },
  {
   "cell_type": "code",
   "execution_count": 54,
   "id": "511b063c",
   "metadata": {},
   "outputs": [
    {
     "name": "stdout",
     "output_type": "stream",
     "text": [
      "\n",
      "🔹 **Cluster 1: 285 Respondents**\n",
      "\n"
     ]
    },
    {
     "data": {
      "text/html": [
       "<style type=\"text/css\">\n",
       "#T_64cfc_row0_col0, #T_64cfc_row4_col0, #T_64cfc_row5_col0, #T_64cfc_row7_col0 {\n",
       "  background-color: #f5fafe;\n",
       "  color: #000000;\n",
       "}\n",
       "#T_64cfc_row0_col1, #T_64cfc_row1_col1, #T_64cfc_row2_col0, #T_64cfc_row2_col1, #T_64cfc_row3_col1, #T_64cfc_row4_col1, #T_64cfc_row5_col1, #T_64cfc_row6_col1, #T_64cfc_row7_col1 {\n",
       "  background-color: #f7fbff;\n",
       "  color: #000000;\n",
       "}\n",
       "#T_64cfc_row1_col0, #T_64cfc_row3_col0, #T_64cfc_row6_col0, #T_64cfc_row8_col0, #T_64cfc_row8_col1 {\n",
       "  background-color: #f6faff;\n",
       "  color: #000000;\n",
       "}\n",
       "#T_64cfc_row9_col0 {\n",
       "  background-color: #b3d3e8;\n",
       "  color: #000000;\n",
       "}\n",
       "#T_64cfc_row9_col1 {\n",
       "  background-color: #e9f2fa;\n",
       "  color: #000000;\n",
       "}\n",
       "#T_64cfc_row10_col0, #T_64cfc_row10_col1 {\n",
       "  background-color: #08306b;\n",
       "  color: #f1f1f1;\n",
       "}\n",
       "</style>\n",
       "<table id=\"T_64cfc\">\n",
       "  <thead>\n",
       "    <tr>\n",
       "      <th class=\"blank level0\" >&nbsp;</th>\n",
       "      <th id=\"T_64cfc_level0_col0\" class=\"col_heading level0 col0\" >mean</th>\n",
       "      <th id=\"T_64cfc_level0_col1\" class=\"col_heading level0 col1\" >std</th>\n",
       "    </tr>\n",
       "  </thead>\n",
       "  <tbody>\n",
       "    <tr>\n",
       "      <th id=\"T_64cfc_level0_row0\" class=\"row_heading level0 row0\" >Systems Thinking Score 0-1</th>\n",
       "      <td id=\"T_64cfc_row0_col0\" class=\"data row0 col0\" >0.66</td>\n",
       "      <td id=\"T_64cfc_row0_col1\" class=\"data row0 col1\" >0.15</td>\n",
       "    </tr>\n",
       "    <tr>\n",
       "      <th id=\"T_64cfc_level0_row1\" class=\"row_heading level0 row1\" >Trust Score 0-1</th>\n",
       "      <td id=\"T_64cfc_row1_col0\" class=\"data row1 col0\" >0.50</td>\n",
       "      <td id=\"T_64cfc_row1_col1\" class=\"data row1 col1\" >0.21</td>\n",
       "    </tr>\n",
       "    <tr>\n",
       "      <th id=\"T_64cfc_level0_row2\" class=\"row_heading level0 row2\" >Conspiracy 0-1</th>\n",
       "      <td id=\"T_64cfc_row2_col0\" class=\"data row2 col0\" >0.29</td>\n",
       "      <td id=\"T_64cfc_row2_col1\" class=\"data row2 col1\" >0.20</td>\n",
       "    </tr>\n",
       "    <tr>\n",
       "      <th id=\"T_64cfc_level0_row3\" class=\"row_heading level0 row3\" >Complexity 0-1</th>\n",
       "      <td id=\"T_64cfc_row3_col0\" class=\"data row3 col0\" >0.57</td>\n",
       "      <td id=\"T_64cfc_row3_col1\" class=\"data row3 col1\" >0.19</td>\n",
       "    </tr>\n",
       "    <tr>\n",
       "      <th id=\"T_64cfc_level0_row4\" class=\"row_heading level0 row4\" >Openness 0-1</th>\n",
       "      <td id=\"T_64cfc_row4_col0\" class=\"data row4 col0\" >0.66</td>\n",
       "      <td id=\"T_64cfc_row4_col1\" class=\"data row4 col1\" >0.20</td>\n",
       "    </tr>\n",
       "    <tr>\n",
       "      <th id=\"T_64cfc_level0_row5\" class=\"row_heading level0 row5\" >Conscientiousness 0-1</th>\n",
       "      <td id=\"T_64cfc_row5_col0\" class=\"data row5 col0\" >0.75</td>\n",
       "      <td id=\"T_64cfc_row5_col1\" class=\"data row5 col1\" >0.17</td>\n",
       "    </tr>\n",
       "    <tr>\n",
       "      <th id=\"T_64cfc_level0_row6\" class=\"row_heading level0 row6\" >Extraversion 0-1</th>\n",
       "      <td id=\"T_64cfc_row6_col0\" class=\"data row6 col0\" >0.56</td>\n",
       "      <td id=\"T_64cfc_row6_col1\" class=\"data row6 col1\" >0.20</td>\n",
       "    </tr>\n",
       "    <tr>\n",
       "      <th id=\"T_64cfc_level0_row7\" class=\"row_heading level0 row7\" >Agreeableness 0-1</th>\n",
       "      <td id=\"T_64cfc_row7_col0\" class=\"data row7 col0\" >0.72</td>\n",
       "      <td id=\"T_64cfc_row7_col1\" class=\"data row7 col1\" >0.17</td>\n",
       "    </tr>\n",
       "    <tr>\n",
       "      <th id=\"T_64cfc_level0_row8\" class=\"row_heading level0 row8\" >Neuroticism 0-1</th>\n",
       "      <td id=\"T_64cfc_row8_col0\" class=\"data row8 col0\" >0.49</td>\n",
       "      <td id=\"T_64cfc_row8_col1\" class=\"data row8 col1\" >0.24</td>\n",
       "    </tr>\n",
       "    <tr>\n",
       "      <th id=\"T_64cfc_level0_row9\" class=\"row_heading level0 row9\" >Composite Crisis Score (Sum of all Crisis Scores)</th>\n",
       "      <td id=\"T_64cfc_row9_col0\" class=\"data row9 col0\" >14.97</td>\n",
       "      <td id=\"T_64cfc_row9_col1\" class=\"data row9 col1\" >1.45</td>\n",
       "    </tr>\n",
       "    <tr>\n",
       "      <th id=\"T_64cfc_level0_row10\" class=\"row_heading level0 row10\" >Age</th>\n",
       "      <td id=\"T_64cfc_row10_col0\" class=\"data row10 col0\" >47.35</td>\n",
       "      <td id=\"T_64cfc_row10_col1\" class=\"data row10 col1\" >17.66</td>\n",
       "    </tr>\n",
       "  </tbody>\n",
       "</table>\n"
      ],
      "text/plain": [
       "<pandas.io.formats.style.Styler at 0x164c9af5610>"
      ]
     },
     "metadata": {},
     "output_type": "display_data"
    },
    {
     "data": {
      "image/png": "[encoded data removed]",
      "text/plain": [
       "<Figure size 1500x400 with 3 Axes>"
      ]
     },
     "metadata": {},
     "output_type": "display_data"
    }
   ],
   "source": [
    "# 🎯 Choose a cluster to explore\n",
    "selected_cluster = 1  # Change this to 0, 1, 2, 3, or 4\n",
    "\n",
    "# Filter data for the selected cluster\n",
    "cluster_data = df[df[\"Cluster\"] == selected_cluster]\n",
    "cluster_size = cluster_data.shape[0]\n",
    "\n",
    "# 📊 Compute summary statistics\n",
    "cluster_summary = cluster_data[composite_scores + [\"Age\"]].describe().T[[\"mean\", \"std\"]]\n",
    "\n",
    "# 📌 Demographic breakdowns\n",
    "gender_counts = cluster_data[\"Gender\"].value_counts(normalize=True) * 100\n",
    "election_counts = cluster_data[\"Last Election: Didn't Vote 0, Democrat 1, Republican 2\"].value_counts(normalize=True) * 100\n",
    "urban_rural_counts = cluster_data[\"Urban or Rural\"].value_counts(normalize=True) * 100\n",
    "\n",
    "# 🎨 Style the table\n",
    "styled_summary = cluster_summary.style.background_gradient(cmap=\"Blues\").format({\"mean\": \"{:.2f}\", \"std\": \"{:.2f}\"})\n",
    "\n",
    "# 📊 Plot demographics\n",
    "fig, axes = plt.subplots(1, 3, figsize=(15, 4))\n",
    "\n",
    "# Gender Bar Plot with Proper Color Assignments\n",
    "gender_palette = {\"Male\": \"#6495ED\", \"Female\": \"#FF69B4\", \"Other\": \"#FFD700\"}  # Blue, Pink, Yellow\n",
    "sns.barplot(x=gender_counts.index, y=gender_counts.values, ax=axes[0], palette=[gender_palette[g] for g in gender_counts.index])\n",
    "axes[0].set_title(\"Gender Distribution\")\n",
    "axes[0].set_ylabel(\"Percentage\")\n",
    "\n",
    "# Election Choice Bar Plot\n",
    "sns.barplot(x=election_counts.index, y=election_counts.values, ax=axes[1], palette=[\"gray\", \"blue\", \"red\"])\n",
    "axes[1].set_title(\"Election Choice\")\n",
    "axes[1].set_ylabel(\"Percentage\")\n",
    "\n",
    "# Urban vs. Rural Bar Plot\n",
    "sns.barplot(x=urban_rural_counts.index, y=urban_rural_counts.values, ax=axes[2], palette=[\"#4682B4\", \"#8B4513\"])  # Steel Blue & Saddle Brown\n",
    "axes[2].set_title(\"Urban vs. Rural\")\n",
    "axes[2].set_ylabel(\"Percentage\")\n",
    "\n",
    "plt.tight_layout()\n",
    "\n",
    "# 🔥 Display results\n",
    "print(f\"\\n🔹 **Cluster {selected_cluster}: {cluster_size} Respondents**\\n\")\n",
    "display(styled_summary)\n",
    "plt.show()\n",
    "\n"
   ]
  },
  {
   "cell_type": "markdown",
   "id": "07af00f4",
   "metadata": {},
   "source": [
    "## Conclusions\n",
    "Initially, this notebook aimed to calculate similarity scores between respondents and visualize them in a network. However, due to the large dataset size, generating 1,000+ nodes with millions of edges quickly became computationally infeasible. Beyond technical limitations, the resulting networks would have been too complex to interpret meaningfully.\n",
    "\n",
    "Instead, this notebook provides an interactive framework for exploring composite scores in a more focused, intuitive way. Users can:\n",
    "\n",
    "✅ Select individual or multiple composite scores to analyze respondent similarities.\n",
    "✅ Interactively explore respondents’ data based on K-Means clustering.\n",
    "✅ Generate & compare clusters based on shared characteristics."
   ]
  },
  {
   "cell_type": "markdown",
   "id": "cfd93b71",
   "metadata": {},
   "source": [
    "## Next Steps & Features\n",
    "**Refining Austria Data for Compatibility**\n",
    "    Formatting Austria’s survey responses to match this framework is part of a longer-term goal. It will add a new level of comparativity and interactivty\n",
    "\n",
    "**Re-intergratring and Improving Similarity Score Efficiency**\n",
    "    Storing precomputed similarity scores may allow for faster comparisons in future work, but this too needs a plan.\n",
    "    \n",
    "   \n",
    "**Testing different clustering methods**\n",
    "    For more efficient network interaction or visual;ization tools, possibly easier on the computer gererating the network."
   ]
  },
  {
   "cell_type": "markdown",
   "id": "08ecb79c",
   "metadata": {},
   "source": [
    "## Disclaimer on ChatGPT\n",
    "ChatGPT was a partner on this project, especially in troubleshooting code, refinining procedures when netwoork visualizations were not cooperating, and in improving the readability of code blocks and markdown tabs. I worked to refine the code from ChatGPT, catching errors, and suggesting ways to make interface elements better. I take responsability for the final products of the project, and feel inspired by the skills I have learned in this class!"
   ]
  }
 ],
 "metadata": {
  "kernelspec": {
   "display_name": "Python 3 (ipykernel)",
   "language": "python",
   "name": "python3"
  },
  "language_info": {
   "codemirror_mode": {
    "name": "ipython",
    "version": 3
   },
   "file_extension": ".py",
   "mimetype": "text/x-python",
   "name": "python",
   "nbconvert_exporter": "python",
   "pygments_lexer": "ipython3",
   "version": "3.11.5"
  }
 },
 "nbformat": 4,
 "nbformat_minor": 5
}
